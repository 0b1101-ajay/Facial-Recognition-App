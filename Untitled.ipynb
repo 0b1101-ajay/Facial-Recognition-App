{
 "cells": [
  {
   "cell_type": "code",
   "execution_count": 1,
   "id": "954919f0",
   "metadata": {},
   "outputs": [
    {
     "name": "stdout",
     "output_type": "stream",
     "text": [
      "Requirement already satisfied: opencv-python in c:\\users\\ajayk\\documents\\projects\\ds_dl_projects\\ds_dl_projects\\lib\\site-packages (4.6.0.66)\n",
      "Requirement already satisfied: matplotlib in c:\\users\\ajayk\\documents\\projects\\ds_dl_projects\\ds_dl_projects\\lib\\site-packages (3.5.2)\n",
      "Requirement already satisfied: numpy>=1.21.2 in c:\\users\\ajayk\\documents\\projects\\ds_dl_projects\\ds_dl_projects\\lib\\site-packages (from opencv-python) (1.23.0)\n",
      "Requirement already satisfied: pyparsing>=2.2.1 in c:\\users\\ajayk\\documents\\projects\\ds_dl_projects\\ds_dl_projects\\lib\\site-packages (from matplotlib) (3.0.9)\n",
      "Requirement already satisfied: pillow>=6.2.0 in c:\\users\\ajayk\\documents\\projects\\ds_dl_projects\\ds_dl_projects\\lib\\site-packages (from matplotlib) (9.1.1)\n",
      "Requirement already satisfied: kiwisolver>=1.0.1 in c:\\users\\ajayk\\documents\\projects\\ds_dl_projects\\ds_dl_projects\\lib\\site-packages (from matplotlib) (1.4.3)\n",
      "Requirement already satisfied: packaging>=20.0 in c:\\users\\ajayk\\documents\\projects\\ds_dl_projects\\ds_dl_projects\\lib\\site-packages (from matplotlib) (21.3)\n",
      "Requirement already satisfied: cycler>=0.10 in c:\\users\\ajayk\\documents\\projects\\ds_dl_projects\\ds_dl_projects\\lib\\site-packages (from matplotlib) (0.11.0)\n",
      "Requirement already satisfied: python-dateutil>=2.7 in c:\\users\\ajayk\\documents\\projects\\ds_dl_projects\\ds_dl_projects\\lib\\site-packages (from matplotlib) (2.8.2)\n",
      "Requirement already satisfied: fonttools>=4.22.0 in c:\\users\\ajayk\\documents\\projects\\ds_dl_projects\\ds_dl_projects\\lib\\site-packages (from matplotlib) (4.33.3)\n",
      "Requirement already satisfied: six>=1.5 in c:\\users\\ajayk\\documents\\projects\\ds_dl_projects\\ds_dl_projects\\lib\\site-packages (from python-dateutil>=2.7->matplotlib) (1.16.0)\n"
     ]
    }
   ],
   "source": [
    "!pip install opencv-python matplotlib"
   ]
  },
  {
   "cell_type": "code",
   "execution_count": 2,
   "id": "33cfcfc9",
   "metadata": {},
   "outputs": [
    {
     "name": "stdout",
     "output_type": "stream",
     "text": [
      "Requirement already satisfied: tensorflow-gpu in c:\\users\\ajayk\\documents\\projects\\ds_dl_projects\\ds_dl_projects\\lib\\site-packages (2.9.1)\n",
      "Requirement already satisfied: gast<=0.4.0,>=0.2.1 in c:\\users\\ajayk\\documents\\projects\\ds_dl_projects\\ds_dl_projects\\lib\\site-packages (from tensorflow-gpu) (0.4.0)\n",
      "Requirement already satisfied: absl-py>=1.0.0 in c:\\users\\ajayk\\documents\\projects\\ds_dl_projects\\ds_dl_projects\\lib\\site-packages (from tensorflow-gpu) (1.1.0)\n",
      "Requirement already satisfied: six>=1.12.0 in c:\\users\\ajayk\\documents\\projects\\ds_dl_projects\\ds_dl_projects\\lib\\site-packages (from tensorflow-gpu) (1.16.0)\n",
      "Requirement already satisfied: keras-preprocessing>=1.1.1 in c:\\users\\ajayk\\documents\\projects\\ds_dl_projects\\ds_dl_projects\\lib\\site-packages (from tensorflow-gpu) (1.1.2)\n",
      "Requirement already satisfied: keras<2.10.0,>=2.9.0rc0 in c:\\users\\ajayk\\documents\\projects\\ds_dl_projects\\ds_dl_projects\\lib\\site-packages (from tensorflow-gpu) (2.9.0)\n",
      "Requirement already satisfied: opt-einsum>=2.3.2 in c:\\users\\ajayk\\documents\\projects\\ds_dl_projects\\ds_dl_projects\\lib\\site-packages (from tensorflow-gpu) (3.3.0)\n",
      "Requirement already satisfied: termcolor>=1.1.0 in c:\\users\\ajayk\\documents\\projects\\ds_dl_projects\\ds_dl_projects\\lib\\site-packages (from tensorflow-gpu) (1.1.0)\n",
      "Requirement already satisfied: h5py>=2.9.0 in c:\\users\\ajayk\\documents\\projects\\ds_dl_projects\\ds_dl_projects\\lib\\site-packages (from tensorflow-gpu) (3.7.0)\n",
      "Requirement already satisfied: libclang>=13.0.0 in c:\\users\\ajayk\\documents\\projects\\ds_dl_projects\\ds_dl_projects\\lib\\site-packages (from tensorflow-gpu) (14.0.1)\n",
      "Requirement already satisfied: tensorboard<2.10,>=2.9 in c:\\users\\ajayk\\documents\\projects\\ds_dl_projects\\ds_dl_projects\\lib\\site-packages (from tensorflow-gpu) (2.9.1)\n",
      "Requirement already satisfied: wrapt>=1.11.0 in c:\\users\\ajayk\\documents\\projects\\ds_dl_projects\\ds_dl_projects\\lib\\site-packages (from tensorflow-gpu) (1.14.1)\n",
      "Requirement already satisfied: typing-extensions>=3.6.6 in c:\\users\\ajayk\\documents\\projects\\ds_dl_projects\\ds_dl_projects\\lib\\site-packages (from tensorflow-gpu) (4.2.0)\n",
      "Requirement already satisfied: numpy>=1.20 in c:\\users\\ajayk\\documents\\projects\\ds_dl_projects\\ds_dl_projects\\lib\\site-packages (from tensorflow-gpu) (1.23.0)\n",
      "Requirement already satisfied: flatbuffers<2,>=1.12 in c:\\users\\ajayk\\documents\\projects\\ds_dl_projects\\ds_dl_projects\\lib\\site-packages (from tensorflow-gpu) (1.12)\n",
      "Requirement already satisfied: tensorflow-estimator<2.10.0,>=2.9.0rc0 in c:\\users\\ajayk\\documents\\projects\\ds_dl_projects\\ds_dl_projects\\lib\\site-packages (from tensorflow-gpu) (2.9.0)\n",
      "Requirement already satisfied: setuptools in c:\\users\\ajayk\\documents\\projects\\ds_dl_projects\\ds_dl_projects\\lib\\site-packages (from tensorflow-gpu) (58.1.0)\n",
      "Requirement already satisfied: tensorflow-io-gcs-filesystem>=0.23.1 in c:\\users\\ajayk\\documents\\projects\\ds_dl_projects\\ds_dl_projects\\lib\\site-packages (from tensorflow-gpu) (0.26.0)\n",
      "Requirement already satisfied: astunparse>=1.6.0 in c:\\users\\ajayk\\documents\\projects\\ds_dl_projects\\ds_dl_projects\\lib\\site-packages (from tensorflow-gpu) (1.6.3)\n",
      "Requirement already satisfied: google-pasta>=0.1.1 in c:\\users\\ajayk\\documents\\projects\\ds_dl_projects\\ds_dl_projects\\lib\\site-packages (from tensorflow-gpu) (0.2.0)\n",
      "Requirement already satisfied: packaging in c:\\users\\ajayk\\documents\\projects\\ds_dl_projects\\ds_dl_projects\\lib\\site-packages (from tensorflow-gpu) (21.3)\n",
      "Requirement already satisfied: protobuf<3.20,>=3.9.2 in c:\\users\\ajayk\\documents\\projects\\ds_dl_projects\\ds_dl_projects\\lib\\site-packages (from tensorflow-gpu) (3.19.4)\n",
      "Requirement already satisfied: grpcio<2.0,>=1.24.3 in c:\\users\\ajayk\\documents\\projects\\ds_dl_projects\\ds_dl_projects\\lib\\site-packages (from tensorflow-gpu) (1.47.0)\n",
      "Requirement already satisfied: wheel<1.0,>=0.23.0 in c:\\users\\ajayk\\documents\\projects\\ds_dl_projects\\ds_dl_projects\\lib\\site-packages (from astunparse>=1.6.0->tensorflow-gpu) (0.37.1)\n",
      "Requirement already satisfied: google-auth-oauthlib<0.5,>=0.4.1 in c:\\users\\ajayk\\documents\\projects\\ds_dl_projects\\ds_dl_projects\\lib\\site-packages (from tensorboard<2.10,>=2.9->tensorflow-gpu) (0.4.6)\n",
      "Requirement already satisfied: markdown>=2.6.8 in c:\\users\\ajayk\\documents\\projects\\ds_dl_projects\\ds_dl_projects\\lib\\site-packages (from tensorboard<2.10,>=2.9->tensorflow-gpu) (3.3.7)\n",
      "Requirement already satisfied: tensorboard-plugin-wit>=1.6.0 in c:\\users\\ajayk\\documents\\projects\\ds_dl_projects\\ds_dl_projects\\lib\\site-packages (from tensorboard<2.10,>=2.9->tensorflow-gpu) (1.8.1)\n",
      "Requirement already satisfied: werkzeug>=1.0.1 in c:\\users\\ajayk\\documents\\projects\\ds_dl_projects\\ds_dl_projects\\lib\\site-packages (from tensorboard<2.10,>=2.9->tensorflow-gpu) (2.1.2)\n",
      "Requirement already satisfied: tensorboard-data-server<0.7.0,>=0.6.0 in c:\\users\\ajayk\\documents\\projects\\ds_dl_projects\\ds_dl_projects\\lib\\site-packages (from tensorboard<2.10,>=2.9->tensorflow-gpu) (0.6.1)\n",
      "Requirement already satisfied: requests<3,>=2.21.0 in c:\\users\\ajayk\\documents\\projects\\ds_dl_projects\\ds_dl_projects\\lib\\site-packages (from tensorboard<2.10,>=2.9->tensorflow-gpu) (2.28.1)\n",
      "Requirement already satisfied: google-auth<3,>=1.6.3 in c:\\users\\ajayk\\documents\\projects\\ds_dl_projects\\ds_dl_projects\\lib\\site-packages (from tensorboard<2.10,>=2.9->tensorflow-gpu) (2.9.0)\n",
      "Requirement already satisfied: pyparsing!=3.0.5,>=2.0.2 in c:\\users\\ajayk\\documents\\projects\\ds_dl_projects\\ds_dl_projects\\lib\\site-packages (from packaging->tensorflow-gpu) (3.0.9)\n",
      "Requirement already satisfied: pyasn1-modules>=0.2.1 in c:\\users\\ajayk\\documents\\projects\\ds_dl_projects\\ds_dl_projects\\lib\\site-packages (from google-auth<3,>=1.6.3->tensorboard<2.10,>=2.9->tensorflow-gpu) (0.2.8)\n",
      "Requirement already satisfied: cachetools<6.0,>=2.0.0 in c:\\users\\ajayk\\documents\\projects\\ds_dl_projects\\ds_dl_projects\\lib\\site-packages (from google-auth<3,>=1.6.3->tensorboard<2.10,>=2.9->tensorflow-gpu) (5.2.0)\n",
      "Requirement already satisfied: rsa<5,>=3.1.4 in c:\\users\\ajayk\\documents\\projects\\ds_dl_projects\\ds_dl_projects\\lib\\site-packages (from google-auth<3,>=1.6.3->tensorboard<2.10,>=2.9->tensorflow-gpu) (4.8)\n",
      "Requirement already satisfied: requests-oauthlib>=0.7.0 in c:\\users\\ajayk\\documents\\projects\\ds_dl_projects\\ds_dl_projects\\lib\\site-packages (from google-auth-oauthlib<0.5,>=0.4.1->tensorboard<2.10,>=2.9->tensorflow-gpu) (1.3.1)\n",
      "Requirement already satisfied: certifi>=2017.4.17 in c:\\users\\ajayk\\documents\\projects\\ds_dl_projects\\ds_dl_projects\\lib\\site-packages (from requests<3,>=2.21.0->tensorboard<2.10,>=2.9->tensorflow-gpu) (2022.6.15)\n",
      "Requirement already satisfied: idna<4,>=2.5 in c:\\users\\ajayk\\documents\\projects\\ds_dl_projects\\ds_dl_projects\\lib\\site-packages (from requests<3,>=2.21.0->tensorboard<2.10,>=2.9->tensorflow-gpu) (3.3)\n",
      "Requirement already satisfied: urllib3<1.27,>=1.21.1 in c:\\users\\ajayk\\documents\\projects\\ds_dl_projects\\ds_dl_projects\\lib\\site-packages (from requests<3,>=2.21.0->tensorboard<2.10,>=2.9->tensorflow-gpu) (1.26.9)\n",
      "Requirement already satisfied: charset-normalizer<3,>=2 in c:\\users\\ajayk\\documents\\projects\\ds_dl_projects\\ds_dl_projects\\lib\\site-packages (from requests<3,>=2.21.0->tensorboard<2.10,>=2.9->tensorflow-gpu) (2.1.0)\n",
      "Requirement already satisfied: pyasn1<0.5.0,>=0.4.6 in c:\\users\\ajayk\\documents\\projects\\ds_dl_projects\\ds_dl_projects\\lib\\site-packages (from pyasn1-modules>=0.2.1->google-auth<3,>=1.6.3->tensorboard<2.10,>=2.9->tensorflow-gpu) (0.4.8)\n",
      "Requirement already satisfied: oauthlib>=3.0.0 in c:\\users\\ajayk\\documents\\projects\\ds_dl_projects\\ds_dl_projects\\lib\\site-packages (from requests-oauthlib>=0.7.0->google-auth-oauthlib<0.5,>=0.4.1->tensorboard<2.10,>=2.9->tensorflow-gpu) (3.2.0)\n"
     ]
    }
   ],
   "source": [
    "!pip install tensorflow-gpu"
   ]
  },
  {
   "cell_type": "code",
   "execution_count": 3,
   "id": "775461e0",
   "metadata": {},
   "outputs": [],
   "source": [
    "import cv2\n",
    "import os\n",
    "import random\n",
    "import numpy as np\n",
    "import matplotlib.pyplot as plt"
   ]
  },
  {
   "cell_type": "code",
   "execution_count": 4,
   "id": "f5709723",
   "metadata": {},
   "outputs": [],
   "source": [
    "from tensorflow.keras.models import Model\n",
    "from tensorflow.keras.layers import Layer, Conv2D, Dense, MaxPooling2D, Input, Flatten\n",
    "import tensorflow as tf"
   ]
  },
  {
   "cell_type": "code",
   "execution_count": 5,
   "id": "06d6fed7",
   "metadata": {},
   "outputs": [
    {
     "name": "stdout",
     "output_type": "stream",
     "text": [
      "Default GPU Device:/device:GPU:0\n"
     ]
    }
   ],
   "source": [
    "import tensorflow as tf \n",
    "\n",
    "if tf.test.gpu_device_name(): \n",
    "\n",
    "    print('Default GPU Device:{}'.format(tf.test.gpu_device_name()))\n",
    "\n",
    "else:\n",
    "\n",
    "   print(\"Please install GPU version of TF\")"
   ]
  },
  {
   "cell_type": "code",
   "execution_count": 6,
   "id": "44feb7b5",
   "metadata": {},
   "outputs": [],
   "source": [
    "gpus = tf.config.experimental.list_physical_devices('GPU')\n",
    "for gpu in gpus:\n",
    "    tf.config.experimental.set_memory_growth(gpu,True)"
   ]
  },
  {
   "cell_type": "code",
   "execution_count": 7,
   "id": "68aea469",
   "metadata": {},
   "outputs": [
    {
     "data": {
      "text/plain": [
       "1"
      ]
     },
     "execution_count": 7,
     "metadata": {},
     "output_type": "execute_result"
    }
   ],
   "source": [
    "len(gpus)"
   ]
  },
  {
   "cell_type": "code",
   "execution_count": 12,
   "id": "477aed69",
   "metadata": {},
   "outputs": [],
   "source": [
    "Pos_Path = os.path.join('data', 'positive')\n",
    "Neg_Path = os.path.join('data', 'negative')\n",
    "Anc_Path = os.path.join('data', 'anchor')"
   ]
  },
  {
   "cell_type": "code",
   "execution_count": 19,
   "id": "58f94b1d",
   "metadata": {},
   "outputs": [
    {
     "name": "stdout",
     "output_type": "stream",
     "text": [
      "Positive folders already present\n",
      "Negative folder created\n",
      "Anchor folder created\n"
     ]
    }
   ],
   "source": [
    "try:\n",
    "    os.makedirs(Pos_Path)\n",
    "    print(\"Positive folder created\")\n",
    "except:\n",
    "    print(\"Positive folders already present\")\n",
    "try:\n",
    "    os.makedirs(Neg_Path)\n",
    "    print(\"Negative folder created\")\n",
    "except:\n",
    "    print(\"Negative folders already present\")\n",
    "try:\n",
    "    os.makedirs(Anc_Path)\n",
    "    print(\"Anchor folder created\")\n",
    "except:\n",
    "    print(\"Anchor folders already present\")"
   ]
  },
  {
   "cell_type": "code",
   "execution_count": null,
   "id": "b77e5bbb",
   "metadata": {},
   "outputs": [],
   "source": []
  }
 ],
 "metadata": {
  "kernelspec": {
   "display_name": "ds_dl_projects",
   "language": "python",
   "name": "ds_dl_projects"
  },
  "language_info": {
   "codemirror_mode": {
    "name": "ipython",
    "version": 3
   },
   "file_extension": ".py",
   "mimetype": "text/x-python",
   "name": "python",
   "nbconvert_exporter": "python",
   "pygments_lexer": "ipython3",
   "version": "3.10.5"
  }
 },
 "nbformat": 4,
 "nbformat_minor": 5
}
